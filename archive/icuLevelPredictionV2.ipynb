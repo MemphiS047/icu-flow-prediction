{
 "cells": [
  {
   "cell_type": "code",
   "execution_count": 67,
   "metadata": {},
   "outputs": [],
   "source": [
    "import matplotlib.pyplot as plt\n",
    "import numpy as np\n",
    "import pandas as pd\n",
    "import seaborn as sns\n",
    "import xgboost as xgb\n",
    "from mlxtend.frequent_patterns import fpgrowth\n",
    "from mlxtend.preprocessing import TransactionEncoder\n",
    "from sklearn.feature_selection import VarianceThreshold\n",
    "from sklearn.metrics import accuracy_score, hinge_loss\n",
    "from sklearn.model_selection import train_test_split\n",
    "from sklearn.pipeline import make_pipeline\n",
    "from sklearn.preprocessing import MinMaxScaler, OrdinalEncoder, StandardScaler\n",
    "from sklearn.svm import SVC\n",
    "from sklearn.linear_model import LinearRegression\n",
    "from sklearn.metrics import classification_report, confusion_matrix, plot_confusion_matrix, ConfusionMatrixDisplay\n",
    "%matplotlib inline"
   ]
  },
  {
   "cell_type": "markdown",
   "metadata": {},
   "source": [
    "### Patient level prediciton\n",
    "<!-- We used following tables : \n",
    "- kdigo_stages\n",
    "- elixhauser_score_ahrq\n",
    "- elixhauser_score_quan\n",
    "- prescription (optional)\n",
    "- First Day Measurmenets\n",
    "  - blood_gas_firstday\n",
    "  - gcs_first_day\n",
    "  - labs_first_day\n",
    "  - urine_output_first_day\n",
    "  - ventilation_first_day\n",
    "  - vitals_first_day\n",
    "  - weight_first_day\n",
    "- every_score\n",
    "- explicit\n",
    "- martin\n",
    "- icustay_detail_age -->"
   ]
  },
  {
   "cell_type": "code",
   "execution_count": 50,
   "metadata": {},
   "outputs": [],
   "source": [
    "df = pd.read_csv(\"./../data/datasetFpmIcuStayDetail.csv\")"
   ]
  },
  {
   "cell_type": "code",
   "execution_count": 51,
   "metadata": {},
   "outputs": [
    {
     "data": {
      "text/html": [
       "<div>\n",
       "<style scoped>\n",
       "    .dataframe tbody tr th:only-of-type {\n",
       "        vertical-align: middle;\n",
       "    }\n",
       "\n",
       "    .dataframe tbody tr th {\n",
       "        vertical-align: top;\n",
       "    }\n",
       "\n",
       "    .dataframe thead th {\n",
       "        text-align: right;\n",
       "    }\n",
       "</style>\n",
       "<table border=\"1\" class=\"dataframe\">\n",
       "  <thead>\n",
       "    <tr style=\"text-align: right;\">\n",
       "      <th></th>\n",
       "      <th>icustay_id</th>\n",
       "      <th>age</th>\n",
       "      <th>pulmonary</th>\n",
       "      <th>pao2fio2</th>\n",
       "      <th>mingcs</th>\n",
       "      <th>heartrate_mean</th>\n",
       "      <th>wbc_min</th>\n",
       "      <th>wbc_max</th>\n",
       "      <th>sysbp_mean</th>\n",
       "      <th>urineoutput</th>\n",
       "      <th>...</th>\n",
       "      <th>hospstay_seq</th>\n",
       "      <th>first_hosp_stay</th>\n",
       "      <th>intime</th>\n",
       "      <th>outtime</th>\n",
       "      <th>los_icu</th>\n",
       "      <th>icustay_seq</th>\n",
       "      <th>first_icu_stay</th>\n",
       "      <th>elixhauser_vanwalraven</th>\n",
       "      <th>elixhauser_sid29</th>\n",
       "      <th>elixhauser_sid30</th>\n",
       "    </tr>\n",
       "  </thead>\n",
       "  <tbody>\n",
       "    <tr>\n",
       "      <th>0</th>\n",
       "      <td>205907</td>\n",
       "      <td>50.645076</td>\n",
       "      <td>3</td>\n",
       "      <td>NaN</td>\n",
       "      <td>15.0</td>\n",
       "      <td>114.774194</td>\n",
       "      <td>32.1</td>\n",
       "      <td>36.1</td>\n",
       "      <td>138.966667</td>\n",
       "      <td>5.0</td>\n",
       "      <td>...</td>\n",
       "      <td>1</td>\n",
       "      <td>t</td>\n",
       "      <td>2161-07-31 17:00:41</td>\n",
       "      <td>2161-08-12 16:50:22</td>\n",
       "      <td>11.9928</td>\n",
       "      <td>1</td>\n",
       "      <td>t</td>\n",
       "      <td>12.0</td>\n",
       "      <td>18.0</td>\n",
       "      <td>20.0</td>\n",
       "    </tr>\n",
       "    <tr>\n",
       "      <th>1</th>\n",
       "      <td>216788</td>\n",
       "      <td>60.761024</td>\n",
       "      <td>0</td>\n",
       "      <td>NaN</td>\n",
       "      <td>15.0</td>\n",
       "      <td>92.071429</td>\n",
       "      <td>7.4</td>\n",
       "      <td>7.4</td>\n",
       "      <td>100.489362</td>\n",
       "      <td>1500.0</td>\n",
       "      <td>...</td>\n",
       "      <td>1</td>\n",
       "      <td>t</td>\n",
       "      <td>2177-01-01 11:28:00</td>\n",
       "      <td>2177-01-05 11:34:00</td>\n",
       "      <td>4.0042</td>\n",
       "      <td>1</td>\n",
       "      <td>t</td>\n",
       "      <td>0.0</td>\n",
       "      <td>-1.0</td>\n",
       "      <td>6.0</td>\n",
       "    </tr>\n",
       "    <tr>\n",
       "      <th>2</th>\n",
       "      <td>211038</td>\n",
       "      <td>64.889926</td>\n",
       "      <td>0</td>\n",
       "      <td>NaN</td>\n",
       "      <td>15.0</td>\n",
       "      <td>89.371429</td>\n",
       "      <td>10.0</td>\n",
       "      <td>10.0</td>\n",
       "      <td>103.228571</td>\n",
       "      <td>1766.0</td>\n",
       "      <td>...</td>\n",
       "      <td>1</td>\n",
       "      <td>t</td>\n",
       "      <td>2147-11-10 12:38:00</td>\n",
       "      <td>2147-11-12 17:44:00</td>\n",
       "      <td>2.2125</td>\n",
       "      <td>1</td>\n",
       "      <td>t</td>\n",
       "      <td>0.0</td>\n",
       "      <td>-2.0</td>\n",
       "      <td>-2.0</td>\n",
       "    </tr>\n",
       "    <tr>\n",
       "      <th>3</th>\n",
       "      <td>200728</td>\n",
       "      <td>56.996581</td>\n",
       "      <td>0</td>\n",
       "      <td>NaN</td>\n",
       "      <td>14.0</td>\n",
       "      <td>88.189189</td>\n",
       "      <td>9.5</td>\n",
       "      <td>18.8</td>\n",
       "      <td>154.365854</td>\n",
       "      <td>2135.0</td>\n",
       "      <td>...</td>\n",
       "      <td>1</td>\n",
       "      <td>t</td>\n",
       "      <td>2151-01-04 13:05:15</td>\n",
       "      <td>2151-01-06 14:59:35</td>\n",
       "      <td>2.0794</td>\n",
       "      <td>1</td>\n",
       "      <td>t</td>\n",
       "      <td>7.0</td>\n",
       "      <td>8.0</td>\n",
       "      <td>17.0</td>\n",
       "    </tr>\n",
       "    <tr>\n",
       "      <th>4</th>\n",
       "      <td>202996</td>\n",
       "      <td>64.887600</td>\n",
       "      <td>3</td>\n",
       "      <td>128.571429</td>\n",
       "      <td>15.0</td>\n",
       "      <td>89.310345</td>\n",
       "      <td>7.3</td>\n",
       "      <td>13.3</td>\n",
       "      <td>143.606061</td>\n",
       "      <td>2700.0</td>\n",
       "      <td>...</td>\n",
       "      <td>1</td>\n",
       "      <td>t</td>\n",
       "      <td>2139-10-05 16:14:41</td>\n",
       "      <td>2139-10-27 15:36:18</td>\n",
       "      <td>21.9733</td>\n",
       "      <td>1</td>\n",
       "      <td>t</td>\n",
       "      <td>0.0</td>\n",
       "      <td>0.0</td>\n",
       "      <td>0.0</td>\n",
       "    </tr>\n",
       "    <tr>\n",
       "      <th>...</th>\n",
       "      <td>...</td>\n",
       "      <td>...</td>\n",
       "      <td>...</td>\n",
       "      <td>...</td>\n",
       "      <td>...</td>\n",
       "      <td>...</td>\n",
       "      <td>...</td>\n",
       "      <td>...</td>\n",
       "      <td>...</td>\n",
       "      <td>...</td>\n",
       "      <td>...</td>\n",
       "      <td>...</td>\n",
       "      <td>...</td>\n",
       "      <td>...</td>\n",
       "      <td>...</td>\n",
       "      <td>...</td>\n",
       "      <td>...</td>\n",
       "      <td>...</td>\n",
       "      <td>...</td>\n",
       "      <td>...</td>\n",
       "      <td>...</td>\n",
       "    </tr>\n",
       "    <tr>\n",
       "      <th>108271</th>\n",
       "      <td>282141</td>\n",
       "      <td>52.750732</td>\n",
       "      <td>0</td>\n",
       "      <td>NaN</td>\n",
       "      <td>14.0</td>\n",
       "      <td>84.269231</td>\n",
       "      <td>3.7</td>\n",
       "      <td>8.0</td>\n",
       "      <td>117.166667</td>\n",
       "      <td>4225.0</td>\n",
       "      <td>...</td>\n",
       "      <td>1</td>\n",
       "      <td>t</td>\n",
       "      <td>2121-01-28 18:47:24</td>\n",
       "      <td>2121-01-30 21:01:09</td>\n",
       "      <td>2.0929</td>\n",
       "      <td>1</td>\n",
       "      <td>t</td>\n",
       "      <td>3.0</td>\n",
       "      <td>6.0</td>\n",
       "      <td>6.0</td>\n",
       "    </tr>\n",
       "    <tr>\n",
       "      <th>108305</th>\n",
       "      <td>269434</td>\n",
       "      <td>64.819398</td>\n",
       "      <td>0</td>\n",
       "      <td>NaN</td>\n",
       "      <td>8.0</td>\n",
       "      <td>107.321429</td>\n",
       "      <td>15.0</td>\n",
       "      <td>18.0</td>\n",
       "      <td>159.321429</td>\n",
       "      <td>2740.0</td>\n",
       "      <td>...</td>\n",
       "      <td>1</td>\n",
       "      <td>t</td>\n",
       "      <td>2135-03-26 18:24:01</td>\n",
       "      <td>2135-03-28 20:32:04</td>\n",
       "      <td>2.0889</td>\n",
       "      <td>1</td>\n",
       "      <td>t</td>\n",
       "      <td>2.0</td>\n",
       "      <td>3.0</td>\n",
       "      <td>6.0</td>\n",
       "    </tr>\n",
       "    <tr>\n",
       "      <th>108316</th>\n",
       "      <td>271929</td>\n",
       "      <td>71.148891</td>\n",
       "      <td>0</td>\n",
       "      <td>NaN</td>\n",
       "      <td>13.0</td>\n",
       "      <td>108.500000</td>\n",
       "      <td>18.1</td>\n",
       "      <td>18.1</td>\n",
       "      <td>106.318182</td>\n",
       "      <td>2380.0</td>\n",
       "      <td>...</td>\n",
       "      <td>2</td>\n",
       "      <td>f</td>\n",
       "      <td>2128-06-16 13:31:08</td>\n",
       "      <td>2128-06-22 21:47:12</td>\n",
       "      <td>6.3445</td>\n",
       "      <td>1</td>\n",
       "      <td>t</td>\n",
       "      <td>11.0</td>\n",
       "      <td>3.0</td>\n",
       "      <td>7.0</td>\n",
       "    </tr>\n",
       "    <tr>\n",
       "      <th>108337</th>\n",
       "      <td>273416</td>\n",
       "      <td>71.486196</td>\n",
       "      <td>0</td>\n",
       "      <td>NaN</td>\n",
       "      <td>14.0</td>\n",
       "      <td>79.826087</td>\n",
       "      <td>15.3</td>\n",
       "      <td>19.4</td>\n",
       "      <td>144.904762</td>\n",
       "      <td>2550.0</td>\n",
       "      <td>...</td>\n",
       "      <td>1</td>\n",
       "      <td>t</td>\n",
       "      <td>2121-08-20 18:16:12</td>\n",
       "      <td>2121-08-22 18:22:00</td>\n",
       "      <td>2.0040</td>\n",
       "      <td>1</td>\n",
       "      <td>t</td>\n",
       "      <td>4.0</td>\n",
       "      <td>5.0</td>\n",
       "      <td>4.0</td>\n",
       "    </tr>\n",
       "    <tr>\n",
       "      <th>108361</th>\n",
       "      <td>295409</td>\n",
       "      <td>38.356741</td>\n",
       "      <td>1</td>\n",
       "      <td>478.000000</td>\n",
       "      <td>7.0</td>\n",
       "      <td>76.242424</td>\n",
       "      <td>6.5</td>\n",
       "      <td>12.9</td>\n",
       "      <td>123.483871</td>\n",
       "      <td>3075.0</td>\n",
       "      <td>...</td>\n",
       "      <td>1</td>\n",
       "      <td>t</td>\n",
       "      <td>2188-02-25 11:49:37</td>\n",
       "      <td>2188-03-06 17:11:11</td>\n",
       "      <td>10.2233</td>\n",
       "      <td>1</td>\n",
       "      <td>t</td>\n",
       "      <td>0.0</td>\n",
       "      <td>0.0</td>\n",
       "      <td>0.0</td>\n",
       "    </tr>\n",
       "  </tbody>\n",
       "</table>\n",
       "<p>19002 rows × 34 columns</p>\n",
       "</div>"
      ],
      "text/plain": [
       "        icustay_id        age  pulmonary    pao2fio2  mingcs  heartrate_mean  \\\n",
       "0           205907  50.645076          3         NaN    15.0      114.774194   \n",
       "1           216788  60.761024          0         NaN    15.0       92.071429   \n",
       "2           211038  64.889926          0         NaN    15.0       89.371429   \n",
       "3           200728  56.996581          0         NaN    14.0       88.189189   \n",
       "4           202996  64.887600          3  128.571429    15.0       89.310345   \n",
       "...            ...        ...        ...         ...     ...             ...   \n",
       "108271      282141  52.750732          0         NaN    14.0       84.269231   \n",
       "108305      269434  64.819398          0         NaN     8.0      107.321429   \n",
       "108316      271929  71.148891          0         NaN    13.0      108.500000   \n",
       "108337      273416  71.486196          0         NaN    14.0       79.826087   \n",
       "108361      295409  38.356741          1  478.000000     7.0       76.242424   \n",
       "\n",
       "        wbc_min  wbc_max  sysbp_mean  urineoutput  ...  hospstay_seq  \\\n",
       "0          32.1     36.1  138.966667          5.0  ...             1   \n",
       "1           7.4      7.4  100.489362       1500.0  ...             1   \n",
       "2          10.0     10.0  103.228571       1766.0  ...             1   \n",
       "3           9.5     18.8  154.365854       2135.0  ...             1   \n",
       "4           7.3     13.3  143.606061       2700.0  ...             1   \n",
       "...         ...      ...         ...          ...  ...           ...   \n",
       "108271      3.7      8.0  117.166667       4225.0  ...             1   \n",
       "108305     15.0     18.0  159.321429       2740.0  ...             1   \n",
       "108316     18.1     18.1  106.318182       2380.0  ...             2   \n",
       "108337     15.3     19.4  144.904762       2550.0  ...             1   \n",
       "108361      6.5     12.9  123.483871       3075.0  ...             1   \n",
       "\n",
       "        first_hosp_stay               intime              outtime  los_icu  \\\n",
       "0                     t  2161-07-31 17:00:41  2161-08-12 16:50:22  11.9928   \n",
       "1                     t  2177-01-01 11:28:00  2177-01-05 11:34:00   4.0042   \n",
       "2                     t  2147-11-10 12:38:00  2147-11-12 17:44:00   2.2125   \n",
       "3                     t  2151-01-04 13:05:15  2151-01-06 14:59:35   2.0794   \n",
       "4                     t  2139-10-05 16:14:41  2139-10-27 15:36:18  21.9733   \n",
       "...                 ...                  ...                  ...      ...   \n",
       "108271                t  2121-01-28 18:47:24  2121-01-30 21:01:09   2.0929   \n",
       "108305                t  2135-03-26 18:24:01  2135-03-28 20:32:04   2.0889   \n",
       "108316                f  2128-06-16 13:31:08  2128-06-22 21:47:12   6.3445   \n",
       "108337                t  2121-08-20 18:16:12  2121-08-22 18:22:00   2.0040   \n",
       "108361                t  2188-02-25 11:49:37  2188-03-06 17:11:11  10.2233   \n",
       "\n",
       "       icustay_seq first_icu_stay elixhauser_vanwalraven elixhauser_sid29  \\\n",
       "0                1              t                   12.0             18.0   \n",
       "1                1              t                    0.0             -1.0   \n",
       "2                1              t                    0.0             -2.0   \n",
       "3                1              t                    7.0              8.0   \n",
       "4                1              t                    0.0              0.0   \n",
       "...            ...            ...                    ...              ...   \n",
       "108271           1              t                    3.0              6.0   \n",
       "108305           1              t                    2.0              3.0   \n",
       "108316           1              t                   11.0              3.0   \n",
       "108337           1              t                    4.0              5.0   \n",
       "108361           1              t                    0.0              0.0   \n",
       "\n",
       "        elixhauser_sid30  \n",
       "0                   20.0  \n",
       "1                    6.0  \n",
       "2                   -2.0  \n",
       "3                   17.0  \n",
       "4                    0.0  \n",
       "...                  ...  \n",
       "108271               6.0  \n",
       "108305               6.0  \n",
       "108316               7.0  \n",
       "108337               4.0  \n",
       "108361               0.0  \n",
       "\n",
       "[19002 rows x 34 columns]"
      ]
     },
     "execution_count": 51,
     "metadata": {},
     "output_type": "execute_result"
    }
   ],
   "source": [
    "df.drop_duplicates(subset=\"icustay_id\")"
   ]
  },
  {
   "cell_type": "code",
   "execution_count": 52,
   "metadata": {},
   "outputs": [],
   "source": [
    "df = df[(df['age'] > 18) & (df['age'] < 89)]"
   ]
  },
  {
   "cell_type": "code",
   "execution_count": 53,
   "metadata": {},
   "outputs": [
    {
     "name": "stdout",
     "output_type": "stream",
     "text": [
      "List of dropped columns: dod, \n",
      "\n"
     ]
    }
   ],
   "source": [
    "df2 = df[[column for column in df if df[column].count() / len(df) >= 0.5]]\n",
    "print(\"List of dropped columns:\", end=\" \")\n",
    "for c in df.columns:\n",
    "    if c not in df2.columns:\n",
    "        print(c, end=\", \")\n",
    "print('\\n')\n",
    "df = df2"
   ]
  },
  {
   "cell_type": "markdown",
   "metadata": {},
   "source": [
    "#### XGBoost"
   ]
  },
  {
   "cell_type": "code",
   "execution_count": 54,
   "metadata": {},
   "outputs": [
    {
     "data": {
      "text/plain": [
       "icustay_id                  int64\n",
       "age                       float64\n",
       "pulmonary                   int64\n",
       "pao2fio2                  float64\n",
       "mingcs                    float64\n",
       "heartrate_mean            float64\n",
       "wbc_min                   float64\n",
       "wbc_max                   float64\n",
       "sysbp_mean                float64\n",
       "urineoutput               float64\n",
       "pco2                      float64\n",
       "po2                         int64\n",
       "icu_level                   int64\n",
       "subject_id                  int64\n",
       "hadm_id                     int64\n",
       "gender                       int8\n",
       "admittime                   int16\n",
       "dischtime                   int16\n",
       "los_hospital              float64\n",
       "ethnicity                    int8\n",
       "ethnicity_grouped            int8\n",
       "admission_type               int8\n",
       "hospital_expire_flag        int64\n",
       "hospstay_seq                int64\n",
       "first_hosp_stay              int8\n",
       "intime                      int16\n",
       "outtime                     int16\n",
       "los_icu                   float64\n",
       "icustay_seq                 int64\n",
       "first_icu_stay               int8\n",
       "elixhauser_vanwalraven    float64\n",
       "elixhauser_sid29          float64\n",
       "elixhauser_sid30          float64\n",
       "dtype: object"
      ]
     },
     "execution_count": 54,
     "metadata": {},
     "output_type": "execute_result"
    }
   ],
   "source": [
    "for colName, colType in zip(df.columns, df.dtypes):\n",
    "    if(colType == \"object\"):\n",
    "        df[colName] = df[colName].astype('category')\n",
    "        df[colName] = df[colName].cat.codes\n",
    "df.dtypes"
   ]
  },
  {
   "cell_type": "code",
   "execution_count": 55,
   "metadata": {},
   "outputs": [],
   "source": [
    "X_train, X_test, y_train, y_test = train_test_split(df.loc[:, ~df.columns.isin([\"icu_level\"])], df[\"icu_level\"], test_size=0.33, random_state=42)"
   ]
  },
  {
   "cell_type": "code",
   "execution_count": 56,
   "metadata": {},
   "outputs": [],
   "source": [
    "train = xgb.DMatrix(X_train,label=y_train)\n",
    "test  = xgb.DMatrix(X_test,label=y_test)"
   ]
  },
  {
   "cell_type": "code",
   "execution_count": 57,
   "metadata": {},
   "outputs": [],
   "source": [
    "epochs = 10\n",
    "param = {\n",
    "    'eta':0.9,\n",
    "    'objective': 'multi:softmax',\n",
    "    'num_class': 4\n",
    "}"
   ]
  },
  {
   "cell_type": "code",
   "execution_count": 58,
   "metadata": {},
   "outputs": [],
   "source": [
    "model = xgb.train(param, train, epochs)"
   ]
  },
  {
   "cell_type": "code",
   "execution_count": 59,
   "metadata": {},
   "outputs": [
    {
     "name": "stdout",
     "output_type": "stream",
     "text": [
      "[2. 1. 3.]\n"
     ]
    }
   ],
   "source": [
    "pred = model.predict(test)\n",
    "pred = pd.DataFrame(pred)\n",
    "acc = accuracy_score(y_test,pred)\n",
    "for col in pred:\n",
    "    print(pred[col].unique())"
   ]
  },
  {
   "cell_type": "code",
   "execution_count": 60,
   "metadata": {},
   "outputs": [
    {
     "name": "stdout",
     "output_type": "stream",
     "text": [
      "Model Accuracy : 0.8919145605010065\n",
      "1    47299\n",
      "2    18379\n",
      "3     6941\n",
      "Name: icu_level, dtype: int64\n"
     ]
    }
   ],
   "source": [
    "print(\"Model Accuracy : {}\".format(acc))\n",
    "print(y_train.value_counts())"
   ]
  },
  {
   "cell_type": "markdown",
   "metadata": {},
   "source": [
    "#### Support Vector Machine"
   ]
  },
  {
   "cell_type": "code",
   "execution_count": 61,
   "metadata": {},
   "outputs": [
    {
     "name": "stdout",
     "output_type": "stream",
     "text": [
      "For SVM removing all columns that have at least one NULL value ... \n"
     ]
    }
   ],
   "source": [
    "print(\"For SVM removing all columns that have at least one NULL value ... \")\n",
    "df = df.dropna(how='any',axis=0) "
   ]
  },
  {
   "cell_type": "code",
   "execution_count": 62,
   "metadata": {},
   "outputs": [],
   "source": [
    "x = df.loc[:, ~df.columns.isin([\"icu_level\"])].values #returns a numpy array\n",
    "min_max_scaler = MinMaxScaler()\n",
    "x_scaled = min_max_scaler.fit_transform(x)\n",
    "df_train = pd.DataFrame(x_scaled)"
   ]
  },
  {
   "cell_type": "code",
   "execution_count": 63,
   "metadata": {},
   "outputs": [],
   "source": [
    "X_train, X_test, y_train, y_test = train_test_split(df_train, df[\"icu_level\"], test_size=0.33, random_state=42)"
   ]
  },
  {
   "cell_type": "code",
   "execution_count": 64,
   "metadata": {},
   "outputs": [
    {
     "data": {
      "text/html": [
       "<style>#sk-container-id-2 {color: black;background-color: white;}#sk-container-id-2 pre{padding: 0;}#sk-container-id-2 div.sk-toggleable {background-color: white;}#sk-container-id-2 label.sk-toggleable__label {cursor: pointer;display: block;width: 100%;margin-bottom: 0;padding: 0.3em;box-sizing: border-box;text-align: center;}#sk-container-id-2 label.sk-toggleable__label-arrow:before {content: \"▸\";float: left;margin-right: 0.25em;color: #696969;}#sk-container-id-2 label.sk-toggleable__label-arrow:hover:before {color: black;}#sk-container-id-2 div.sk-estimator:hover label.sk-toggleable__label-arrow:before {color: black;}#sk-container-id-2 div.sk-toggleable__content {max-height: 0;max-width: 0;overflow: hidden;text-align: left;background-color: #f0f8ff;}#sk-container-id-2 div.sk-toggleable__content pre {margin: 0.2em;color: black;border-radius: 0.25em;background-color: #f0f8ff;}#sk-container-id-2 input.sk-toggleable__control:checked~div.sk-toggleable__content {max-height: 200px;max-width: 100%;overflow: auto;}#sk-container-id-2 input.sk-toggleable__control:checked~label.sk-toggleable__label-arrow:before {content: \"▾\";}#sk-container-id-2 div.sk-estimator input.sk-toggleable__control:checked~label.sk-toggleable__label {background-color: #d4ebff;}#sk-container-id-2 div.sk-label input.sk-toggleable__control:checked~label.sk-toggleable__label {background-color: #d4ebff;}#sk-container-id-2 input.sk-hidden--visually {border: 0;clip: rect(1px 1px 1px 1px);clip: rect(1px, 1px, 1px, 1px);height: 1px;margin: -1px;overflow: hidden;padding: 0;position: absolute;width: 1px;}#sk-container-id-2 div.sk-estimator {font-family: monospace;background-color: #f0f8ff;border: 1px dotted black;border-radius: 0.25em;box-sizing: border-box;margin-bottom: 0.5em;}#sk-container-id-2 div.sk-estimator:hover {background-color: #d4ebff;}#sk-container-id-2 div.sk-parallel-item::after {content: \"\";width: 100%;border-bottom: 1px solid gray;flex-grow: 1;}#sk-container-id-2 div.sk-label:hover label.sk-toggleable__label {background-color: #d4ebff;}#sk-container-id-2 div.sk-serial::before {content: \"\";position: absolute;border-left: 1px solid gray;box-sizing: border-box;top: 0;bottom: 0;left: 50%;z-index: 0;}#sk-container-id-2 div.sk-serial {display: flex;flex-direction: column;align-items: center;background-color: white;padding-right: 0.2em;padding-left: 0.2em;position: relative;}#sk-container-id-2 div.sk-item {position: relative;z-index: 1;}#sk-container-id-2 div.sk-parallel {display: flex;align-items: stretch;justify-content: center;background-color: white;position: relative;}#sk-container-id-2 div.sk-item::before, #sk-container-id-2 div.sk-parallel-item::before {content: \"\";position: absolute;border-left: 1px solid gray;box-sizing: border-box;top: 0;bottom: 0;left: 50%;z-index: -1;}#sk-container-id-2 div.sk-parallel-item {display: flex;flex-direction: column;z-index: 1;position: relative;background-color: white;}#sk-container-id-2 div.sk-parallel-item:first-child::after {align-self: flex-end;width: 50%;}#sk-container-id-2 div.sk-parallel-item:last-child::after {align-self: flex-start;width: 50%;}#sk-container-id-2 div.sk-parallel-item:only-child::after {width: 0;}#sk-container-id-2 div.sk-dashed-wrapped {border: 1px dashed gray;margin: 0 0.4em 0.5em 0.4em;box-sizing: border-box;padding-bottom: 0.4em;background-color: white;}#sk-container-id-2 div.sk-label label {font-family: monospace;font-weight: bold;display: inline-block;line-height: 1.2em;}#sk-container-id-2 div.sk-label-container {text-align: center;}#sk-container-id-2 div.sk-container {/* jupyter's `normalize.less` sets `[hidden] { display: none; }` but bootstrap.min.css set `[hidden] { display: none !important; }` so we also need the `!important` here to be able to override the default hidden behavior on the sphinx rendered scikit-learn.org. See: https://github.com/scikit-learn/scikit-learn/issues/21755 */display: inline-block !important;position: relative;}#sk-container-id-2 div.sk-text-repr-fallback {display: none;}</style><div id=\"sk-container-id-2\" class=\"sk-top-container\"><div class=\"sk-text-repr-fallback\"><pre>SVC(decision_function_shape=&#x27;ovo&#x27;)</pre><b>In a Jupyter environment, please rerun this cell to show the HTML representation or trust the notebook. <br />On GitHub, the HTML representation is unable to render, please try loading this page with nbviewer.org.</b></div><div class=\"sk-container\" hidden><div class=\"sk-item\"><div class=\"sk-estimator sk-toggleable\"><input class=\"sk-toggleable__control sk-hidden--visually\" id=\"sk-estimator-id-2\" type=\"checkbox\" checked><label for=\"sk-estimator-id-2\" class=\"sk-toggleable__label sk-toggleable__label-arrow\">SVC</label><div class=\"sk-toggleable__content\"><pre>SVC(decision_function_shape=&#x27;ovo&#x27;)</pre></div></div></div></div></div>"
      ],
      "text/plain": [
       "SVC(decision_function_shape='ovo')"
      ]
     },
     "execution_count": 64,
     "metadata": {},
     "output_type": "execute_result"
    }
   ],
   "source": [
    "clf = SVC(decision_function_shape='ovo')\n",
    "clf.fit(X_train, y_train)"
   ]
  },
  {
   "cell_type": "code",
   "execution_count": 65,
   "metadata": {},
   "outputs": [
    {
     "name": "stdout",
     "output_type": "stream",
     "text": [
      "0.769708698309228\n"
     ]
    }
   ],
   "source": [
    "y_pred = clf.predict(X_test)\n",
    "print(accuracy_score(y_test, y_pred))"
   ]
  },
  {
   "cell_type": "code",
   "execution_count": 69,
   "metadata": {},
   "outputs": [
    {
     "data": {
      "text/plain": [
       "<sklearn.metrics._plot.confusion_matrix.ConfusionMatrixDisplay at 0x1f2facb1fd0>"
      ]
     },
     "execution_count": 69,
     "metadata": {},
     "output_type": "execute_result"
    },
    {
     "data": {
      "image/png": "[encoded data removed]",
      "text/plain": [
       "<Figure size 432x288 with 2 Axes>"
      ]
     },
     "metadata": {
      "needs_background": "light"
     },
     "output_type": "display_data"
    }
   ],
   "source": [
    "cm = confusion_matrix(y_test, y_pred)\n",
    "disp = ConfusionMatrixDisplay(confusion_matrix=cm)\n",
    "disp.plot()"
   ]
  }
 ],
 "metadata": {
  "interpreter": {
   "hash": "386ea3b07a6ada0c306def5914e5362b1371e81bc38deef05eed861951ad0013"
  },
  "kernelspec": {
   "display_name": "Python 3.8.10 ('.venv': venv)",
   "language": "python",
   "name": "python3"
  },
  "language_info": {
   "codemirror_mode": {
    "name": "ipython",
    "version": 3
   },
   "file_extension": ".py",
   "mimetype": "text/x-python",
   "name": "python",
   "nbconvert_exporter": "python",
   "pygments_lexer": "ipython3",
   "version": "3.8.10"
  },
  "orig_nbformat": 4
 },
 "nbformat": 4,
 "nbformat_minor": 2
}
