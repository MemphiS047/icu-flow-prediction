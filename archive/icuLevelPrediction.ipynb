{
 "cells": [
  {
   "cell_type": "code",
   "execution_count": 1,
   "metadata": {},
   "outputs": [],
   "source": [
    "import pandas as pd\n",
    "import numpy as np\n",
    "import seaborn as sns\n",
    "import matplotlib.pyplot as plt\n",
    "from sklearn.feature_selection import VarianceThreshold\n",
    "from sklearn.model_selection import train_test_split\n",
    "from sklearn.metrics import accuracy_score\n",
    "from sklearn.model_selection import cross_val_score\n",
    "from mlxtend.preprocessing import TransactionEncoder\n",
    "from mlxtend.frequent_patterns import fpgrowth\n",
    "from xgboost.sklearn import XGBClassifier\n",
    "from sklearn.preprocessing import LabelEncoder\n",
    "import xgboost as xgb\n",
    "from sklearn.metrics import classification_report, confusion_matrix, plot_confusion_matrix, ConfusionMatrixDisplay\n",
    "%matplotlib inline"
   ]
  },
  {
   "cell_type": "code",
   "execution_count": 2,
   "metadata": {},
   "outputs": [],
   "source": [
    "df_rootDataset = pd.read_csv(\"./data/rootDataset.csv\")"
   ]
  },
  {
   "cell_type": "code",
   "execution_count": 3,
   "metadata": {},
   "outputs": [
    {
     "name": "stdout",
     "output_type": "stream",
     "text": [
      "icustay_id\n",
      "urineoutput\n",
      "age\n",
      "pulmonary\n",
      "vent\n",
      "heartrate_min\n",
      "heartrate_max\n",
      "heartrate_mean\n",
      "sysbp_min\n",
      "sysbp_max\n",
      "sysbp_mean\n",
      "diasbp_min\n",
      "diasbp_max\n",
      "diasbp_mean\n",
      "meanbp_min\n",
      "meanbp_max\n",
      "meanbp_mean\n",
      "resprate_min\n",
      "resprate_max\n",
      "resprate_mean\n",
      "tempc_min\n",
      "tempc_max\n",
      "tempc_mean\n",
      "spo2_min\n",
      "spo2_max\n",
      "spo2_mean\n",
      "glucose_mean\n",
      "mingcs\n",
      "gcsmotor\n",
      "gcsverbal\n",
      "gcseyes\n",
      "endotrachflag\n",
      "aniongap_min\n",
      "aniongap_max\n",
      "albumin_min\n",
      "albumin_max\n",
      "bands_min\n",
      "bands_max\n",
      "bicarbonate_min\n",
      "bicarbonate_max\n",
      "bilirubin_min\n",
      "bilirubin_max\n",
      "creatinine_min\n",
      "creatinine_max\n",
      "chloride_min\n",
      "chloride_max\n",
      "glucose_min\n",
      "glucose_max\n",
      "hematocrit_min\n",
      "hematocrit_max\n",
      "hemoglobin_min\n",
      "hemoglobin_max\n",
      "lactate_min\n",
      "lactate_max\n",
      "platelet_min\n",
      "platelet_max\n",
      "potassium_min\n",
      "potassium_max\n",
      "ptt_min\n",
      "ptt_max\n",
      "inr_min\n",
      "inr_max\n",
      "pt_min\n",
      "pt_max\n",
      "sodium_min\n",
      "sodium_max\n",
      "bun_min\n",
      "bun_max\n",
      "wbc_min\n",
      "wbc_max\n",
      "specimen\n",
      "specimen_pred\n",
      "specimen_prob\n",
      "so2\n",
      "spo2\n",
      "po2\n",
      "pco2\n",
      "fio2_chartevents\n",
      "fio2\n",
      "aado2\n",
      "aado2_calc\n",
      "pao2fio2\n",
      "ph\n",
      "baseexcess\n",
      "bicarbonate\n",
      "totalco2\n",
      "hematocrit\n",
      "hemoglobin\n",
      "carboxyhemoglobin\n",
      "methemoglobin\n",
      "chloride\n",
      "calcium\n",
      "temperature\n",
      "potassium\n",
      "sodium\n",
      "lactate\n",
      "glucose\n",
      "intubated\n",
      "tidalvolume\n",
      "ventilationrate\n",
      "ventilator\n",
      "peep\n",
      "o2flow\n",
      "requiredo2\n",
      "icu_level\n",
      "los\n"
     ]
    }
   ],
   "source": [
    "for col in df_rootDataset.columns:\n",
    "    print(col)"
   ]
  },
  {
   "cell_type": "code",
   "execution_count": 4,
   "metadata": {},
   "outputs": [],
   "source": [
    "medical_score_features = [['GCS','Heart rate',' mean blood pressure','temperature','respiration rate','ventilation/cpap','chronic dialysis','urine output','Pao2','A-aDO2','hematocrit','WBC','creatinine','blood urea nitrogen','sodium','albumin','bilirubin','glucose','pH','pCO2'],            ['GCS','Heart rate','systolic blood pressure','ventilation/cpap','urine output','blood urea nitrogen','WBC','bilirubin','creatinine','prothrombin time (PT)','platelets','PaO2/FiO2 ratio',],                                                                  \n",
    "                          ['GCS','Heart rate','systolic blood pressure','ventilation/cpap','WBC',' bilirubin','creatinine','platelets','PaO2/FiO2 ratio'],                                                                                                                                \n",
    "                          ['Heart rate','GCS','MAP','temperature','respiration rate','Ventilation status','urine output','Elective surgery','Pre-ICU in-hospital length of stay','Age'],                                                                                                  \n",
    "                          ['GCS','respiration rate','systolic blood pressure'],                                                                                                                                                                                                           \n",
    "                          ['Age','GCS','Heart rate','systolic blood pressure','temperature','respiration rate','ventilation/cpap','urine output','blood urea nitrogen','hematocrit','WBC','glucose','potassium','sodium','HCO3'],                                                         \n",
    "                          ['Age','GCS','Heart rate','systolic blood pressure','temperature','ventilation/cpap','urine output','PaO2/FiO2 ratio','blood urea nitrogen','WBC','potassium','sodium','HCO3'],                                                                                \n",
    "                          ['Body temperature','Heart rate','respiration rate','PaCO2','White blood cell count'],                                                                                                                                                                           \n",
    "                          ['GCS','MAP','FiO2','Ventilation status','Creatinine','Bilirubin','PaO2','Platelets','Dobutamine','Epinephrine','Norepinephrine','urine output']]"
   ]
  },
  {
   "cell_type": "code",
   "execution_count": 5,
   "metadata": {},
   "outputs": [],
   "source": [
    "result = TransactionEncoder().fit(medical_score_features).transform(medical_score_features)\n",
    "features = []\n",
    "for valArr, nameArr in zip(result, medical_score_features):\n",
    "    for val, name in zip(valArr, nameArr):\n",
    "        if(val and name not in features):\n",
    "            features.append(name)"
   ]
  },
  {
   "cell_type": "code",
   "execution_count": 6,
   "metadata": {},
   "outputs": [
    {
     "name": "stdout",
     "output_type": "stream",
     "text": [
      "heartrate_mean\n",
      "meanbp_mean\n",
      "wbc_min\n",
      "wbc_max\n",
      "pco2\n",
      "pao2fio2\n",
      "mingcs\n",
      "temperature\n",
      "los\n",
      "sysbp_mean\n",
      "glucose_mean\n",
      "sodium_min\n",
      "sodium_max\n",
      "creatinine_min\n",
      "creatinine_max\n",
      "platelet_min\n",
      "platelet_max\n",
      "urineoutput\n",
      "icu_level\n"
     ]
    }
   ],
   "source": [
    "df_fpm = pd.DataFrame([df_rootDataset[\"heartrate_mean\"], df_rootDataset[\"meanbp_mean\"], df_rootDataset[\"wbc_min\"], df_rootDataset[\"wbc_max\"], df_rootDataset[\"pco2\"], df_rootDataset[\"pao2fio2\"], df_rootDataset[\"mingcs\"], df_rootDataset[\"temperature\"], df_rootDataset[\"los\"], df_rootDataset[\"sysbp_mean\"], df_rootDataset[\"glucose_mean\"], df_rootDataset[\"sodium_min\"], df_rootDataset[\"sodium_max\"], df_rootDataset[\"creatinine_min\"], df_rootDataset[\"creatinine_max\"], df_rootDataset[\"platelet_min\"], df_rootDataset[\"platelet_max\"], df_rootDataset[\"urineoutput\"], df_rootDataset[\"icu_level\"]]).transpose()\n",
    "for col in df_fpm:\n",
    "    print(col)"
   ]
  },
  {
   "cell_type": "code",
   "execution_count": 7,
   "metadata": {},
   "outputs": [
    {
     "data": {
      "text/html": [
       "<div>\n",
       "<style scoped>\n",
       "    .dataframe tbody tr th:only-of-type {\n",
       "        vertical-align: middle;\n",
       "    }\n",
       "\n",
       "    .dataframe tbody tr th {\n",
       "        vertical-align: top;\n",
       "    }\n",
       "\n",
       "    .dataframe thead th {\n",
       "        text-align: right;\n",
       "    }\n",
       "</style>\n",
       "<table border=\"1\" class=\"dataframe\">\n",
       "  <thead>\n",
       "    <tr style=\"text-align: right;\">\n",
       "      <th></th>\n",
       "      <th>count</th>\n",
       "      <th>mean</th>\n",
       "      <th>std</th>\n",
       "      <th>min</th>\n",
       "      <th>25%</th>\n",
       "      <th>50%</th>\n",
       "      <th>75%</th>\n",
       "      <th>max</th>\n",
       "    </tr>\n",
       "  </thead>\n",
       "  <tbody>\n",
       "    <tr>\n",
       "      <th>heartrate_mean</th>\n",
       "      <td>164174.0</td>\n",
       "      <td>89.079434</td>\n",
       "      <td>16.693729</td>\n",
       "      <td>34.090909</td>\n",
       "      <td>78.607143</td>\n",
       "      <td>86.750000</td>\n",
       "      <td>97.150000</td>\n",
       "      <td>195.565217</td>\n",
       "    </tr>\n",
       "    <tr>\n",
       "      <th>meanbp_mean</th>\n",
       "      <td>160780.0</td>\n",
       "      <td>76.823518</td>\n",
       "      <td>9.658530</td>\n",
       "      <td>17.428571</td>\n",
       "      <td>70.500000</td>\n",
       "      <td>75.391304</td>\n",
       "      <td>81.615385</td>\n",
       "      <td>136.217680</td>\n",
       "    </tr>\n",
       "    <tr>\n",
       "      <th>wbc_min</th>\n",
       "      <td>162595.0</td>\n",
       "      <td>10.849886</td>\n",
       "      <td>7.129492</td>\n",
       "      <td>0.100000</td>\n",
       "      <td>7.100000</td>\n",
       "      <td>10.000000</td>\n",
       "      <td>13.300000</td>\n",
       "      <td>442.700000</td>\n",
       "    </tr>\n",
       "    <tr>\n",
       "      <th>wbc_max</th>\n",
       "      <td>162595.0</td>\n",
       "      <td>15.451717</td>\n",
       "      <td>10.084107</td>\n",
       "      <td>0.100000</td>\n",
       "      <td>10.500000</td>\n",
       "      <td>14.000000</td>\n",
       "      <td>18.500000</td>\n",
       "      <td>600.200000</td>\n",
       "    </tr>\n",
       "    <tr>\n",
       "      <th>pco2</th>\n",
       "      <td>164180.0</td>\n",
       "      <td>41.964716</td>\n",
       "      <td>11.244013</td>\n",
       "      <td>7.000000</td>\n",
       "      <td>36.000000</td>\n",
       "      <td>40.000000</td>\n",
       "      <td>46.000000</td>\n",
       "      <td>243.000000</td>\n",
       "    </tr>\n",
       "    <tr>\n",
       "      <th>pao2fio2</th>\n",
       "      <td>85658.0</td>\n",
       "      <td>266.684299</td>\n",
       "      <td>129.532481</td>\n",
       "      <td>13.000000</td>\n",
       "      <td>173.333333</td>\n",
       "      <td>250.000000</td>\n",
       "      <td>344.999995</td>\n",
       "      <td>2433.333333</td>\n",
       "    </tr>\n",
       "    <tr>\n",
       "      <th>mingcs</th>\n",
       "      <td>160503.0</td>\n",
       "      <td>13.565890</td>\n",
       "      <td>3.191264</td>\n",
       "      <td>3.000000</td>\n",
       "      <td>14.000000</td>\n",
       "      <td>15.000000</td>\n",
       "      <td>15.000000</td>\n",
       "      <td>15.000000</td>\n",
       "    </tr>\n",
       "    <tr>\n",
       "      <th>temperature</th>\n",
       "      <td>27505.0</td>\n",
       "      <td>37.027853</td>\n",
       "      <td>1.196427</td>\n",
       "      <td>10.000000</td>\n",
       "      <td>36.400000</td>\n",
       "      <td>37.100000</td>\n",
       "      <td>37.700000</td>\n",
       "      <td>42.100000</td>\n",
       "    </tr>\n",
       "    <tr>\n",
       "      <th>los</th>\n",
       "      <td>164184.0</td>\n",
       "      <td>6.660082</td>\n",
       "      <td>11.219754</td>\n",
       "      <td>0.038200</td>\n",
       "      <td>1.752800</td>\n",
       "      <td>3.114700</td>\n",
       "      <td>6.827200</td>\n",
       "      <td>173.072500</td>\n",
       "    </tr>\n",
       "    <tr>\n",
       "      <th>sysbp_mean</th>\n",
       "      <td>160553.0</td>\n",
       "      <td>115.328429</td>\n",
       "      <td>14.471562</td>\n",
       "      <td>29.166667</td>\n",
       "      <td>105.633333</td>\n",
       "      <td>112.872340</td>\n",
       "      <td>122.640000</td>\n",
       "      <td>197.200000</td>\n",
       "    </tr>\n",
       "    <tr>\n",
       "      <th>glucose_mean</th>\n",
       "      <td>160609.0</td>\n",
       "      <td>145.012596</td>\n",
       "      <td>713.907092</td>\n",
       "      <td>1.000000</td>\n",
       "      <td>118.285714</td>\n",
       "      <td>131.736842</td>\n",
       "      <td>154.354839</td>\n",
       "      <td>142966.857143</td>\n",
       "    </tr>\n",
       "    <tr>\n",
       "      <th>sodium_min</th>\n",
       "      <td>163606.0</td>\n",
       "      <td>135.736650</td>\n",
       "      <td>4.706198</td>\n",
       "      <td>1.210000</td>\n",
       "      <td>134.000000</td>\n",
       "      <td>136.000000</td>\n",
       "      <td>138.000000</td>\n",
       "      <td>178.000000</td>\n",
       "    </tr>\n",
       "    <tr>\n",
       "      <th>sodium_max</th>\n",
       "      <td>163606.0</td>\n",
       "      <td>140.642766</td>\n",
       "      <td>4.398158</td>\n",
       "      <td>97.000000</td>\n",
       "      <td>138.000000</td>\n",
       "      <td>140.000000</td>\n",
       "      <td>143.000000</td>\n",
       "      <td>182.000000</td>\n",
       "    </tr>\n",
       "    <tr>\n",
       "      <th>creatinine_min</th>\n",
       "      <td>161100.0</td>\n",
       "      <td>1.160914</td>\n",
       "      <td>1.083713</td>\n",
       "      <td>0.100000</td>\n",
       "      <td>0.700000</td>\n",
       "      <td>0.900000</td>\n",
       "      <td>1.200000</td>\n",
       "      <td>21.900000</td>\n",
       "    </tr>\n",
       "    <tr>\n",
       "      <th>creatinine_max</th>\n",
       "      <td>161100.0</td>\n",
       "      <td>1.422645</td>\n",
       "      <td>1.341298</td>\n",
       "      <td>0.100000</td>\n",
       "      <td>0.800000</td>\n",
       "      <td>1.000000</td>\n",
       "      <td>1.500000</td>\n",
       "      <td>27.800000</td>\n",
       "    </tr>\n",
       "    <tr>\n",
       "      <th>platelet_min</th>\n",
       "      <td>163256.0</td>\n",
       "      <td>174.707931</td>\n",
       "      <td>98.930598</td>\n",
       "      <td>5.000000</td>\n",
       "      <td>110.000000</td>\n",
       "      <td>156.000000</td>\n",
       "      <td>217.000000</td>\n",
       "      <td>1629.000000</td>\n",
       "    </tr>\n",
       "    <tr>\n",
       "      <th>platelet_max</th>\n",
       "      <td>163256.0</td>\n",
       "      <td>230.911409</td>\n",
       "      <td>113.038051</td>\n",
       "      <td>9.000000</td>\n",
       "      <td>158.000000</td>\n",
       "      <td>207.000000</td>\n",
       "      <td>276.000000</td>\n",
       "      <td>2292.000000</td>\n",
       "    </tr>\n",
       "    <tr>\n",
       "      <th>urineoutput</th>\n",
       "      <td>164029.0</td>\n",
       "      <td>1997.698650</td>\n",
       "      <td>2060.367319</td>\n",
       "      <td>-2600.000000</td>\n",
       "      <td>1047.000000</td>\n",
       "      <td>1752.000000</td>\n",
       "      <td>2645.000000</td>\n",
       "      <td>561190.000000</td>\n",
       "    </tr>\n",
       "    <tr>\n",
       "      <th>icu_level</th>\n",
       "      <td>164184.0</td>\n",
       "      <td>1.389417</td>\n",
       "      <td>0.644764</td>\n",
       "      <td>1.000000</td>\n",
       "      <td>1.000000</td>\n",
       "      <td>1.000000</td>\n",
       "      <td>2.000000</td>\n",
       "      <td>3.000000</td>\n",
       "    </tr>\n",
       "  </tbody>\n",
       "</table>\n",
       "</div>"
      ],
      "text/plain": [
       "                   count         mean          std          min          25%  \\\n",
       "heartrate_mean  164174.0    89.079434    16.693729    34.090909    78.607143   \n",
       "meanbp_mean     160780.0    76.823518     9.658530    17.428571    70.500000   \n",
       "wbc_min         162595.0    10.849886     7.129492     0.100000     7.100000   \n",
       "wbc_max         162595.0    15.451717    10.084107     0.100000    10.500000   \n",
       "pco2            164180.0    41.964716    11.244013     7.000000    36.000000   \n",
       "pao2fio2         85658.0   266.684299   129.532481    13.000000   173.333333   \n",
       "mingcs          160503.0    13.565890     3.191264     3.000000    14.000000   \n",
       "temperature      27505.0    37.027853     1.196427    10.000000    36.400000   \n",
       "los             164184.0     6.660082    11.219754     0.038200     1.752800   \n",
       "sysbp_mean      160553.0   115.328429    14.471562    29.166667   105.633333   \n",
       "glucose_mean    160609.0   145.012596   713.907092     1.000000   118.285714   \n",
       "sodium_min      163606.0   135.736650     4.706198     1.210000   134.000000   \n",
       "sodium_max      163606.0   140.642766     4.398158    97.000000   138.000000   \n",
       "creatinine_min  161100.0     1.160914     1.083713     0.100000     0.700000   \n",
       "creatinine_max  161100.0     1.422645     1.341298     0.100000     0.800000   \n",
       "platelet_min    163256.0   174.707931    98.930598     5.000000   110.000000   \n",
       "platelet_max    163256.0   230.911409   113.038051     9.000000   158.000000   \n",
       "urineoutput     164029.0  1997.698650  2060.367319 -2600.000000  1047.000000   \n",
       "icu_level       164184.0     1.389417     0.644764     1.000000     1.000000   \n",
       "\n",
       "                        50%          75%            max  \n",
       "heartrate_mean    86.750000    97.150000     195.565217  \n",
       "meanbp_mean       75.391304    81.615385     136.217680  \n",
       "wbc_min           10.000000    13.300000     442.700000  \n",
       "wbc_max           14.000000    18.500000     600.200000  \n",
       "pco2              40.000000    46.000000     243.000000  \n",
       "pao2fio2         250.000000   344.999995    2433.333333  \n",
       "mingcs            15.000000    15.000000      15.000000  \n",
       "temperature       37.100000    37.700000      42.100000  \n",
       "los                3.114700     6.827200     173.072500  \n",
       "sysbp_mean       112.872340   122.640000     197.200000  \n",
       "glucose_mean     131.736842   154.354839  142966.857143  \n",
       "sodium_min       136.000000   138.000000     178.000000  \n",
       "sodium_max       140.000000   143.000000     182.000000  \n",
       "creatinine_min     0.900000     1.200000      21.900000  \n",
       "creatinine_max     1.000000     1.500000      27.800000  \n",
       "platelet_min     156.000000   217.000000    1629.000000  \n",
       "platelet_max     207.000000   276.000000    2292.000000  \n",
       "urineoutput     1752.000000  2645.000000  561190.000000  \n",
       "icu_level          1.000000     2.000000       3.000000  "
      ]
     },
     "execution_count": 7,
     "metadata": {},
     "output_type": "execute_result"
    }
   ],
   "source": [
    "df_fpm.describe().T"
   ]
  },
  {
   "cell_type": "code",
   "execution_count": 8,
   "metadata": {},
   "outputs": [
    {
     "name": "stdout",
     "output_type": "stream",
     "text": [
      "heartrate_mean float64\n",
      "meanbp_mean float64\n",
      "wbc_min float64\n",
      "wbc_max float64\n",
      "pco2 float64\n",
      "pao2fio2 float64\n",
      "mingcs float64\n",
      "temperature float64\n",
      "los float64\n",
      "sysbp_mean float64\n",
      "glucose_mean float64\n",
      "sodium_min float64\n",
      "sodium_max float64\n",
      "creatinine_min float64\n",
      "creatinine_max float64\n",
      "platelet_min float64\n",
      "platelet_max float64\n",
      "urineoutput float64\n",
      "icu_level float64\n"
     ]
    }
   ],
   "source": [
    "for colType, colName in zip(df_fpm.dtypes, df_fpm.columns):\n",
    "    print(colName, colType) "
   ]
  },
  {
   "cell_type": "code",
   "execution_count": 9,
   "metadata": {},
   "outputs": [],
   "source": [
    "# for colName in df_fpm.columns:\n",
    "#     print(\"-------- Hist / Rug plot for {}\".format(colName))\n",
    "#     sns.histplot(x=df_fpm[colName], data=df_fpm, kde=True, bins=70)\n",
    "#     plt.show()"
   ]
  },
  {
   "cell_type": "code",
   "execution_count": 10,
   "metadata": {},
   "outputs": [
    {
     "data": {
      "text/plain": [
       "<AxesSubplot:>"
      ]
     },
     "execution_count": 10,
     "metadata": {},
     "output_type": "execute_result"
    },
    {
     "data": {
      "image/png": "[encoded data removed]",
      "text/plain": [
       "<Figure size 432x288 with 2 Axes>"
      ]
     },
     "metadata": {
      "needs_background": "light"
     },
     "output_type": "display_data"
    }
   ],
   "source": [
    "corr = df_fpm.corr()\n",
    "sns.heatmap(corr, xticklabels=corr.columns, yticklabels=corr.columns)"
   ]
  },
  {
   "cell_type": "code",
   "execution_count": 11,
   "metadata": {},
   "outputs": [],
   "source": [
    "target = df_fpm.pop(\"icu_level\")\n",
    "X_train, X_test, y_train, y_test = train_test_split(df_fpm, target, test_size=0.33, random_state=42)"
   ]
  },
  {
   "cell_type": "code",
   "execution_count": 12,
   "metadata": {},
   "outputs": [
    {
     "data": {
      "text/plain": [
       "164184"
      ]
     },
     "execution_count": 12,
     "metadata": {},
     "output_type": "execute_result"
    }
   ],
   "source": [
    "target.size"
   ]
  },
  {
   "cell_type": "code",
   "execution_count": 13,
   "metadata": {},
   "outputs": [
    {
     "data": {
      "text/plain": [
       "(164184, 18)"
      ]
     },
     "execution_count": 13,
     "metadata": {},
     "output_type": "execute_result"
    }
   ],
   "source": [
    "df_fpm.shape"
   ]
  },
  {
   "cell_type": "code",
   "execution_count": 14,
   "metadata": {},
   "outputs": [],
   "source": [
    "train = xgb.DMatrix(X_train,label=y_train)\n",
    "test  = xgb.DMatrix(X_test,label=y_test)"
   ]
  },
  {
   "cell_type": "code",
   "execution_count": 15,
   "metadata": {},
   "outputs": [],
   "source": [
    "epochs = 10\n",
    "param = {\n",
    "    'eta':0.9,\n",
    "    'objective': 'multi:softmax',\n",
    "    'num_class': 4\n",
    "}"
   ]
  },
  {
   "cell_type": "code",
   "execution_count": 16,
   "metadata": {},
   "outputs": [],
   "source": [
    "model = xgb.train(param, train, epochs)"
   ]
  },
  {
   "cell_type": "code",
   "execution_count": 17,
   "metadata": {},
   "outputs": [],
   "source": [
    "pred = model.predict(test)\n",
    "acc = accuracy_score(y_test,pred)"
   ]
  },
  {
   "cell_type": "code",
   "execution_count": 18,
   "metadata": {},
   "outputs": [
    {
     "name": "stdout",
     "output_type": "stream",
     "text": [
      "Model Accuracy : 0.8856794817371403\n",
      "1.0    77094\n",
      "2.0    23163\n",
      "3.0     9746\n",
      "Name: icu_level, dtype: int64\n"
     ]
    }
   ],
   "source": [
    "print(\"Model Accuracy :\",acc)\n",
    "print(y_train.value_counts())"
   ]
  },
  {
   "cell_type": "code",
   "execution_count": 19,
   "metadata": {},
   "outputs": [],
   "source": [
    "cm = confusion_matrix(y_test, pred)"
   ]
  },
  {
   "cell_type": "code",
   "execution_count": 20,
   "metadata": {},
   "outputs": [
    {
     "data": {
      "text/plain": [
       "(54181,)"
      ]
     },
     "execution_count": 20,
     "metadata": {},
     "output_type": "execute_result"
    }
   ],
   "source": [
    "y_test.shape"
   ]
  },
  {
   "cell_type": "code",
   "execution_count": 21,
   "metadata": {},
   "outputs": [
    {
     "data": {
      "text/plain": [
       "<sklearn.metrics._plot.confusion_matrix.ConfusionMatrixDisplay at 0x2e1934b0970>"
      ]
     },
     "execution_count": 21,
     "metadata": {},
     "output_type": "execute_result"
    },
    {
     "data": {
      "image/png": "[encoded data removed]",
      "text/plain": [
       "<Figure size 432x288 with 2 Axes>"
      ]
     },
     "metadata": {
      "needs_background": "light"
     },
     "output_type": "display_data"
    }
   ],
   "source": [
    "disp = ConfusionMatrixDisplay(confusion_matrix=cm)\n",
    "disp.plot()"
   ]
  },
  {
   "cell_type": "code",
   "execution_count": 22,
   "metadata": {},
   "outputs": [],
   "source": [
    "c_train = xgb.DMatrix(df_fpm,label=target)"
   ]
  },
  {
   "cell_type": "code",
   "execution_count": 23,
   "metadata": {},
   "outputs": [
    {
     "name": "stdout",
     "output_type": "stream",
     "text": [
      "[0]\ttrain-merror:0.17257\ttest-merror:0.17615\n",
      "[1]\ttrain-merror:0.15801\ttest-merror:0.16201\n",
      "[2]\ttrain-merror:0.14694\ttest-merror:0.15180\n",
      "[3]\ttrain-merror:0.13789\ttest-merror:0.14484\n",
      "[4]\ttrain-merror:0.12986\ttest-merror:0.13807\n",
      "[5]\ttrain-merror:0.12337\ttest-merror:0.13180\n",
      "[6]\ttrain-merror:0.11860\ttest-merror:0.12771\n",
      "[7]\ttrain-merror:0.11288\ttest-merror:0.12277\n",
      "[8]\ttrain-merror:0.10820\ttest-merror:0.11914\n",
      "[9]\ttrain-merror:0.10396\ttest-merror:0.11511\n",
      "   train-merror-mean  train-merror-std  test-merror-mean  test-merror-std\n",
      "0           0.172569          0.001429          0.176150         0.001255\n",
      "1           0.158010          0.001064          0.162013         0.001328\n",
      "2           0.146943          0.001222          0.151799         0.001741\n",
      "3           0.137893          0.000786          0.144837         0.001162\n",
      "4           0.129863          0.000843          0.138071         0.002523\n",
      "5           0.123369          0.001815          0.131797         0.002037\n",
      "6           0.118603          0.001950          0.127710         0.002062\n",
      "7           0.112884          0.001681          0.122771         0.001405\n",
      "8           0.108205          0.001145          0.119141         0.002186\n",
      "9           0.103955          0.000136          0.115115         0.001637\n"
     ]
    }
   ],
   "source": [
    "res = xgb.cv(param, c_train, num_boost_round=epochs, nfold=5,\n",
    "             metrics={'merror'}, seed=0,\n",
    "             callbacks=[xgb.callback.EvaluationMonitor(show_stdv=False),\n",
    "                        xgb.callback.EarlyStopping(3)])\n",
    "print(res)                        "
   ]
  },
  {
   "cell_type": "code",
   "execution_count": 24,
   "metadata": {},
   "outputs": [
    {
     "name": "stderr",
     "output_type": "stream",
     "text": [
      "d:\\dev\\github\\MICUP-V2.0\\.venv\\lib\\site-packages\\xgboost\\core.py:525: FutureWarning: Pass `objective` as keyword args.  Passing these as positional arguments will be considered as error in future releases.\n",
      "  warnings.warn(\n"
     ]
    },
    {
     "data": {
      "text/html": [
       "<style>#sk-container-id-1 {color: black;background-color: white;}#sk-container-id-1 pre{padding: 0;}#sk-container-id-1 div.sk-toggleable {background-color: white;}#sk-container-id-1 label.sk-toggleable__label {cursor: pointer;display: block;width: 100%;margin-bottom: 0;padding: 0.3em;box-sizing: border-box;text-align: center;}#sk-container-id-1 label.sk-toggleable__label-arrow:before {content: \"▸\";float: left;margin-right: 0.25em;color: #696969;}#sk-container-id-1 label.sk-toggleable__label-arrow:hover:before {color: black;}#sk-container-id-1 div.sk-estimator:hover label.sk-toggleable__label-arrow:before {color: black;}#sk-container-id-1 div.sk-toggleable__content {max-height: 0;max-width: 0;overflow: hidden;text-align: left;background-color: #f0f8ff;}#sk-container-id-1 div.sk-toggleable__content pre {margin: 0.2em;color: black;border-radius: 0.25em;background-color: #f0f8ff;}#sk-container-id-1 input.sk-toggleable__control:checked~div.sk-toggleable__content {max-height: 200px;max-width: 100%;overflow: auto;}#sk-container-id-1 input.sk-toggleable__control:checked~label.sk-toggleable__label-arrow:before {content: \"▾\";}#sk-container-id-1 div.sk-estimator input.sk-toggleable__control:checked~label.sk-toggleable__label {background-color: #d4ebff;}#sk-container-id-1 div.sk-label input.sk-toggleable__control:checked~label.sk-toggleable__label {background-color: #d4ebff;}#sk-container-id-1 input.sk-hidden--visually {border: 0;clip: rect(1px 1px 1px 1px);clip: rect(1px, 1px, 1px, 1px);height: 1px;margin: -1px;overflow: hidden;padding: 0;position: absolute;width: 1px;}#sk-container-id-1 div.sk-estimator {font-family: monospace;background-color: #f0f8ff;border: 1px dotted black;border-radius: 0.25em;box-sizing: border-box;margin-bottom: 0.5em;}#sk-container-id-1 div.sk-estimator:hover {background-color: #d4ebff;}#sk-container-id-1 div.sk-parallel-item::after {content: \"\";width: 100%;border-bottom: 1px solid gray;flex-grow: 1;}#sk-container-id-1 div.sk-label:hover label.sk-toggleable__label {background-color: #d4ebff;}#sk-container-id-1 div.sk-serial::before {content: \"\";position: absolute;border-left: 1px solid gray;box-sizing: border-box;top: 0;bottom: 0;left: 50%;z-index: 0;}#sk-container-id-1 div.sk-serial {display: flex;flex-direction: column;align-items: center;background-color: white;padding-right: 0.2em;padding-left: 0.2em;position: relative;}#sk-container-id-1 div.sk-item {position: relative;z-index: 1;}#sk-container-id-1 div.sk-parallel {display: flex;align-items: stretch;justify-content: center;background-color: white;position: relative;}#sk-container-id-1 div.sk-item::before, #sk-container-id-1 div.sk-parallel-item::before {content: \"\";position: absolute;border-left: 1px solid gray;box-sizing: border-box;top: 0;bottom: 0;left: 50%;z-index: -1;}#sk-container-id-1 div.sk-parallel-item {display: flex;flex-direction: column;z-index: 1;position: relative;background-color: white;}#sk-container-id-1 div.sk-parallel-item:first-child::after {align-self: flex-end;width: 50%;}#sk-container-id-1 div.sk-parallel-item:last-child::after {align-self: flex-start;width: 50%;}#sk-container-id-1 div.sk-parallel-item:only-child::after {width: 0;}#sk-container-id-1 div.sk-dashed-wrapped {border: 1px dashed gray;margin: 0 0.4em 0.5em 0.4em;box-sizing: border-box;padding-bottom: 0.4em;background-color: white;}#sk-container-id-1 div.sk-label label {font-family: monospace;font-weight: bold;display: inline-block;line-height: 1.2em;}#sk-container-id-1 div.sk-label-container {text-align: center;}#sk-container-id-1 div.sk-container {/* jupyter's `normalize.less` sets `[hidden] { display: none; }` but bootstrap.min.css set `[hidden] { display: none !important; }` so we also need the `!important` here to be able to override the default hidden behavior on the sphinx rendered scikit-learn.org. See: https://github.com/scikit-learn/scikit-learn/issues/21755 */display: inline-block !important;position: relative;}#sk-container-id-1 div.sk-text-repr-fallback {display: none;}</style><div id=\"sk-container-id-1\" class=\"sk-top-container\"><div class=\"sk-text-repr-fallback\"><pre>XGBClassifier(base_score=None, booster=None, callbacks=None,\n",
       "              colsample_bylevel=None, colsample_bynode=None,\n",
       "              colsample_bytree=None, early_stopping_rounds=None,\n",
       "              enable_categorical=False, eval_metric=None, gamma=None,\n",
       "              gpu_id=None, grow_policy=None, importance_type=None,\n",
       "              interaction_constraints=None, learning_rate=None, max_bin=None,\n",
       "              max_cat_to_onehot=None, max_delta_step=None, max_depth=None,\n",
       "              max_leaves=None, metrics={&#x27;merror&#x27;}, min_child_weight=None,\n",
       "              missing=nan, monotone_constraints=None, n_estimators=100,\n",
       "              n_jobs=None, nfold=5, num_boost_round=10, num_parallel_tree=None,\n",
       "              objective={&#x27;eta&#x27;: 0.9, &#x27;num_class&#x27;: 4,\n",
       "                         &#x27;objective&#x27;: &#x27;multi:softmax&#x27;}, ...)</pre><b>In a Jupyter environment, please rerun this cell to show the HTML representation or trust the notebook. <br />On GitHub, the HTML representation is unable to render, please try loading this page with nbviewer.org.</b></div><div class=\"sk-container\" hidden><div class=\"sk-item\"><div class=\"sk-estimator sk-toggleable\"><input class=\"sk-toggleable__control sk-hidden--visually\" id=\"sk-estimator-id-1\" type=\"checkbox\" checked><label for=\"sk-estimator-id-1\" class=\"sk-toggleable__label sk-toggleable__label-arrow\">XGBClassifier</label><div class=\"sk-toggleable__content\"><pre>XGBClassifier(base_score=None, booster=None, callbacks=None,\n",
       "              colsample_bylevel=None, colsample_bynode=None,\n",
       "              colsample_bytree=None, early_stopping_rounds=None,\n",
       "              enable_categorical=False, eval_metric=None, gamma=None,\n",
       "              gpu_id=None, grow_policy=None, importance_type=None,\n",
       "              interaction_constraints=None, learning_rate=None, max_bin=None,\n",
       "              max_cat_to_onehot=None, max_delta_step=None, max_depth=None,\n",
       "              max_leaves=None, metrics={&#x27;merror&#x27;}, min_child_weight=None,\n",
       "              missing=nan, monotone_constraints=None, n_estimators=100,\n",
       "              n_jobs=None, nfold=5, num_boost_round=10, num_parallel_tree=None,\n",
       "              objective={&#x27;eta&#x27;: 0.9, &#x27;num_class&#x27;: 4,\n",
       "                         &#x27;objective&#x27;: &#x27;multi:softmax&#x27;}, ...)</pre></div></div></div></div></div>"
      ],
      "text/plain": [
       "XGBClassifier(base_score=None, booster=None, callbacks=None,\n",
       "              colsample_bylevel=None, colsample_bynode=None,\n",
       "              colsample_bytree=None, early_stopping_rounds=None,\n",
       "              enable_categorical=False, eval_metric=None, gamma=None,\n",
       "              gpu_id=None, grow_policy=None, importance_type=None,\n",
       "              interaction_constraints=None, learning_rate=None, max_bin=None,\n",
       "              max_cat_to_onehot=None, max_delta_step=None, max_depth=None,\n",
       "              max_leaves=None, metrics={'merror'}, min_child_weight=None,\n",
       "              missing=nan, monotone_constraints=None, n_estimators=100,\n",
       "              n_jobs=None, nfold=5, num_boost_round=10, num_parallel_tree=None,\n",
       "              objective={'eta': 0.9, 'num_class': 4,\n",
       "                         'objective': 'multi:softmax'}, ...)"
      ]
     },
     "execution_count": 24,
     "metadata": {},
     "output_type": "execute_result"
    }
   ],
   "source": [
    "xgb_class = XGBClassifier(param, num_boost_round=epochs, nfold=5,\n",
    "             metrics={'merror'}, seed=0)\n",
    "xgb_class                    "
   ]
  },
  {
   "cell_type": "code",
   "execution_count": 25,
   "metadata": {},
   "outputs": [
    {
     "data": {
      "text/plain": [
       "array([1, 1, 1, ..., 0, 0, 0], dtype=int64)"
      ]
     },
     "execution_count": 25,
     "metadata": {},
     "output_type": "execute_result"
    }
   ],
   "source": [
    "le = LabelEncoder()\n",
    "target = le.fit_transform(target)\n",
    "target"
   ]
  },
  {
   "cell_type": "code",
   "execution_count": 26,
   "metadata": {},
   "outputs": [],
   "source": [
    "X_train, X_test, y_train, y_test = train_test_split(df_fpm, target, test_size=0.33, random_state=42)"
   ]
  },
  {
   "cell_type": "code",
   "execution_count": 27,
   "metadata": {},
   "outputs": [
    {
     "name": "stdout",
     "output_type": "stream",
     "text": [
      "[18:44:11] WARNING: C:/Users/Administrator/workspace/xgboost-win64_release_1.6.0/src/learner.cc:627: \n",
      "Parameters: { \"metrics\", \"nfold\", \"num_boost_round\" } might not be used.\n",
      "\n",
      "  This could be a false alarm, with some parameters getting used by language bindings but\n",
      "  then being mistakenly passed down to XGBoost core, or some parameter actually being used\n",
      "  but getting flagged wrongly here. Please open an issue if you find any such cases.\n",
      "\n",
      "\n"
     ]
    },
    {
     "data": {
      "text/html": [
       "<style>#sk-container-id-2 {color: black;background-color: white;}#sk-container-id-2 pre{padding: 0;}#sk-container-id-2 div.sk-toggleable {background-color: white;}#sk-container-id-2 label.sk-toggleable__label {cursor: pointer;display: block;width: 100%;margin-bottom: 0;padding: 0.3em;box-sizing: border-box;text-align: center;}#sk-container-id-2 label.sk-toggleable__label-arrow:before {content: \"▸\";float: left;margin-right: 0.25em;color: #696969;}#sk-container-id-2 label.sk-toggleable__label-arrow:hover:before {color: black;}#sk-container-id-2 div.sk-estimator:hover label.sk-toggleable__label-arrow:before {color: black;}#sk-container-id-2 div.sk-toggleable__content {max-height: 0;max-width: 0;overflow: hidden;text-align: left;background-color: #f0f8ff;}#sk-container-id-2 div.sk-toggleable__content pre {margin: 0.2em;color: black;border-radius: 0.25em;background-color: #f0f8ff;}#sk-container-id-2 input.sk-toggleable__control:checked~div.sk-toggleable__content {max-height: 200px;max-width: 100%;overflow: auto;}#sk-container-id-2 input.sk-toggleable__control:checked~label.sk-toggleable__label-arrow:before {content: \"▾\";}#sk-container-id-2 div.sk-estimator input.sk-toggleable__control:checked~label.sk-toggleable__label {background-color: #d4ebff;}#sk-container-id-2 div.sk-label input.sk-toggleable__control:checked~label.sk-toggleable__label {background-color: #d4ebff;}#sk-container-id-2 input.sk-hidden--visually {border: 0;clip: rect(1px 1px 1px 1px);clip: rect(1px, 1px, 1px, 1px);height: 1px;margin: -1px;overflow: hidden;padding: 0;position: absolute;width: 1px;}#sk-container-id-2 div.sk-estimator {font-family: monospace;background-color: #f0f8ff;border: 1px dotted black;border-radius: 0.25em;box-sizing: border-box;margin-bottom: 0.5em;}#sk-container-id-2 div.sk-estimator:hover {background-color: #d4ebff;}#sk-container-id-2 div.sk-parallel-item::after {content: \"\";width: 100%;border-bottom: 1px solid gray;flex-grow: 1;}#sk-container-id-2 div.sk-label:hover label.sk-toggleable__label {background-color: #d4ebff;}#sk-container-id-2 div.sk-serial::before {content: \"\";position: absolute;border-left: 1px solid gray;box-sizing: border-box;top: 0;bottom: 0;left: 50%;z-index: 0;}#sk-container-id-2 div.sk-serial {display: flex;flex-direction: column;align-items: center;background-color: white;padding-right: 0.2em;padding-left: 0.2em;position: relative;}#sk-container-id-2 div.sk-item {position: relative;z-index: 1;}#sk-container-id-2 div.sk-parallel {display: flex;align-items: stretch;justify-content: center;background-color: white;position: relative;}#sk-container-id-2 div.sk-item::before, #sk-container-id-2 div.sk-parallel-item::before {content: \"\";position: absolute;border-left: 1px solid gray;box-sizing: border-box;top: 0;bottom: 0;left: 50%;z-index: -1;}#sk-container-id-2 div.sk-parallel-item {display: flex;flex-direction: column;z-index: 1;position: relative;background-color: white;}#sk-container-id-2 div.sk-parallel-item:first-child::after {align-self: flex-end;width: 50%;}#sk-container-id-2 div.sk-parallel-item:last-child::after {align-self: flex-start;width: 50%;}#sk-container-id-2 div.sk-parallel-item:only-child::after {width: 0;}#sk-container-id-2 div.sk-dashed-wrapped {border: 1px dashed gray;margin: 0 0.4em 0.5em 0.4em;box-sizing: border-box;padding-bottom: 0.4em;background-color: white;}#sk-container-id-2 div.sk-label label {font-family: monospace;font-weight: bold;display: inline-block;line-height: 1.2em;}#sk-container-id-2 div.sk-label-container {text-align: center;}#sk-container-id-2 div.sk-container {/* jupyter's `normalize.less` sets `[hidden] { display: none; }` but bootstrap.min.css set `[hidden] { display: none !important; }` so we also need the `!important` here to be able to override the default hidden behavior on the sphinx rendered scikit-learn.org. See: https://github.com/scikit-learn/scikit-learn/issues/21755 */display: inline-block !important;position: relative;}#sk-container-id-2 div.sk-text-repr-fallback {display: none;}</style><div id=\"sk-container-id-2\" class=\"sk-top-container\"><div class=\"sk-text-repr-fallback\"><pre>XGBClassifier(base_score=0.5, booster=&#x27;gbtree&#x27;, callbacks=None,\n",
       "              colsample_bylevel=1, colsample_bynode=1, colsample_bytree=1,\n",
       "              early_stopping_rounds=None, enable_categorical=False,\n",
       "              eval_metric=None, gamma=0, gpu_id=-1, grow_policy=&#x27;depthwise&#x27;,\n",
       "              importance_type=None, interaction_constraints=&#x27;&#x27;,\n",
       "              learning_rate=0.300000012, max_bin=256, max_cat_to_onehot=4,\n",
       "              max_delta_step=0, max_depth=6, max_leaves=0, metrics={&#x27;merror&#x27;},\n",
       "              min_child_weight=1, missing=nan, monotone_constraints=&#x27;()&#x27;,\n",
       "              n_estimators=100, n_jobs=0, nfold=5, num_boost_round=10,\n",
       "              num_parallel_tree=1, objective=&#x27;multi:softprob&#x27;, ...)</pre><b>In a Jupyter environment, please rerun this cell to show the HTML representation or trust the notebook. <br />On GitHub, the HTML representation is unable to render, please try loading this page with nbviewer.org.</b></div><div class=\"sk-container\" hidden><div class=\"sk-item\"><div class=\"sk-estimator sk-toggleable\"><input class=\"sk-toggleable__control sk-hidden--visually\" id=\"sk-estimator-id-2\" type=\"checkbox\" checked><label for=\"sk-estimator-id-2\" class=\"sk-toggleable__label sk-toggleable__label-arrow\">XGBClassifier</label><div class=\"sk-toggleable__content\"><pre>XGBClassifier(base_score=0.5, booster=&#x27;gbtree&#x27;, callbacks=None,\n",
       "              colsample_bylevel=1, colsample_bynode=1, colsample_bytree=1,\n",
       "              early_stopping_rounds=None, enable_categorical=False,\n",
       "              eval_metric=None, gamma=0, gpu_id=-1, grow_policy=&#x27;depthwise&#x27;,\n",
       "              importance_type=None, interaction_constraints=&#x27;&#x27;,\n",
       "              learning_rate=0.300000012, max_bin=256, max_cat_to_onehot=4,\n",
       "              max_delta_step=0, max_depth=6, max_leaves=0, metrics={&#x27;merror&#x27;},\n",
       "              min_child_weight=1, missing=nan, monotone_constraints=&#x27;()&#x27;,\n",
       "              n_estimators=100, n_jobs=0, nfold=5, num_boost_round=10,\n",
       "              num_parallel_tree=1, objective=&#x27;multi:softprob&#x27;, ...)</pre></div></div></div></div></div>"
      ],
      "text/plain": [
       "XGBClassifier(base_score=0.5, booster='gbtree', callbacks=None,\n",
       "              colsample_bylevel=1, colsample_bynode=1, colsample_bytree=1,\n",
       "              early_stopping_rounds=None, enable_categorical=False,\n",
       "              eval_metric=None, gamma=0, gpu_id=-1, grow_policy='depthwise',\n",
       "              importance_type=None, interaction_constraints='',\n",
       "              learning_rate=0.300000012, max_bin=256, max_cat_to_onehot=4,\n",
       "              max_delta_step=0, max_depth=6, max_leaves=0, metrics={'merror'},\n",
       "              min_child_weight=1, missing=nan, monotone_constraints='()',\n",
       "              n_estimators=100, n_jobs=0, nfold=5, num_boost_round=10,\n",
       "              num_parallel_tree=1, objective='multi:softprob', ...)"
      ]
     },
     "execution_count": 27,
     "metadata": {},
     "output_type": "execute_result"
    }
   ],
   "source": [
    "xgb_class.fit(X_train, y_train)"
   ]
  },
  {
   "cell_type": "code",
   "execution_count": 28,
   "metadata": {},
   "outputs": [],
   "source": [
    "y_predicted = xgb_class.predict(X_test)"
   ]
  },
  {
   "cell_type": "code",
   "execution_count": 29,
   "metadata": {},
   "outputs": [
    {
     "name": "stdout",
     "output_type": "stream",
     "text": [
      "Model Accuracy : 0.93667521824994\n"
     ]
    }
   ],
   "source": [
    "acc = accuracy_score(y_test,y_predicted)\n",
    "print(\"Model Accuracy :\",acc)"
   ]
  },
  {
   "cell_type": "code",
   "execution_count": 30,
   "metadata": {},
   "outputs": [],
   "source": [
    "cm = confusion_matrix(y_test, y_predicted)"
   ]
  },
  {
   "cell_type": "code",
   "execution_count": 31,
   "metadata": {},
   "outputs": [
    {
     "data": {
      "text/plain": [
       "(54181,)"
      ]
     },
     "execution_count": 31,
     "metadata": {},
     "output_type": "execute_result"
    }
   ],
   "source": [
    "y_test.shape"
   ]
  },
  {
   "cell_type": "code",
   "execution_count": 32,
   "metadata": {},
   "outputs": [
    {
     "data": {
      "text/plain": [
       "<sklearn.metrics._plot.confusion_matrix.ConfusionMatrixDisplay at 0x2e1934252b0>"
      ]
     },
     "execution_count": 32,
     "metadata": {},
     "output_type": "execute_result"
    },
    {
     "data": {
      "image/png": "[encoded data removed]",
      "text/plain": [
       "<Figure size 432x288 with 2 Axes>"
      ]
     },
     "metadata": {
      "needs_background": "light"
     },
     "output_type": "display_data"
    }
   ],
   "source": [
    "disp = ConfusionMatrixDisplay(confusion_matrix=cm)\n",
    "disp.plot()"
   ]
  },
  {
   "cell_type": "code",
   "execution_count": 33,
   "metadata": {},
   "outputs": [
    {
     "data": {
      "text/plain": [
       "Index(['heartrate_mean', 'meanbp_mean', 'wbc_min', 'wbc_max', 'pco2',\n",
       "       'pao2fio2', 'mingcs', 'temperature', 'los', 'sysbp_mean',\n",
       "       'glucose_mean', 'sodium_min', 'sodium_max', 'creatinine_min',\n",
       "       'creatinine_max', 'platelet_min', 'platelet_max', 'urineoutput'],\n",
       "      dtype='object')"
      ]
     },
     "execution_count": 33,
     "metadata": {},
     "output_type": "execute_result"
    }
   ],
   "source": [
    "df_fpm.columns"
   ]
  }
 ],
 "metadata": {
  "interpreter": {
   "hash": "386ea3b07a6ada0c306def5914e5362b1371e81bc38deef05eed861951ad0013"
  },
  "kernelspec": {
   "display_name": "Python 3.8.10 ('.venv': venv)",
   "language": "python",
   "name": "python3"
  },
  "language_info": {
   "codemirror_mode": {
    "name": "ipython",
    "version": 3
   },
   "file_extension": ".py",
   "mimetype": "text/x-python",
   "name": "python",
   "nbconvert_exporter": "python",
   "pygments_lexer": "ipython3",
   "version": "3.8.10"
  },
  "orig_nbformat": 4
 },
 "nbformat": 4,
 "nbformat_minor": 2
}
