{
 "cells": [
  {
   "cell_type": "code",
   "execution_count": 1,
   "metadata": {},
   "outputs": [],
   "source": [
    "import pandas as pd\n",
    "import matplotlib.pyplot as plt\n",
    "import seaborn as sns\n",
    "from dataextraction import connect_to_database, get_base_dataset"
   ]
  },
  {
   "cell_type": "code",
   "execution_count": 2,
   "metadata": {},
   "outputs": [
    {
     "name": "stdout",
     "output_type": "stream",
     "text": [
      "Connected to the PostgreSQL database\n",
      "PostgreSQL version: PostgreSQL 14.0, compiled by Visual C++ build 1914, 64-bit\n"
     ]
    },
    {
     "name": "stderr",
     "output_type": "stream",
     "text": [
      "d:\\workspace\\github\\icu-flow-prediction\\script\\dataextraction.py:95: UserWarning: pandas only supports SQLAlchemy connectable (engine/connection) or database string URI or sqlite3 DBAPI2 connection. Other DBAPI2 objects are not tested. Please consider using SQLAlchemy.\n",
      "  df = pd.read_sql_query(\"SELECT * FROM refined.base_dataset\", conn)\n"
     ]
    }
   ],
   "source": [
    "conn = connect_to_database()\n",
    "cur = conn.cursor()\n",
    "df = get_base_dataset(cur, conn)"
   ]
  },
  {
   "cell_type": "code",
   "execution_count": 4,
   "metadata": {},
   "outputs": [
    {
     "name": "stdout",
     "output_type": "stream",
     "text": [
      "   hadm_id  subject_id  first_wardid  last_wardid              intime  \\\n",
      "0   134462         366            23           23 2164-11-18 20:28:22   \n",
      "1   100536          78            12           12 2177-02-14 04:10:26   \n",
      "2   111199         281            52           52 2101-10-18 04:45:22   \n",
      "3   165312         285            14           14 2152-09-21 22:48:50   \n",
      "4   106909         286            52           52 2175-12-31 22:57:27   \n",
      "\n",
      "              outtime      los  icustay_id        dod  los_hospital  ...  \\\n",
      "0 2164-11-21 00:36:11   2.1721      255905        NaT      3.785417  ...   \n",
      "1 2177-02-15 15:54:43   1.4891      233150 2180-02-02      3.913889  ...   \n",
      "2 2101-10-25 22:29:25   7.7389      257572 2101-10-25      7.602778  ...   \n",
      "3 2152-10-20 15:19:31  28.6880      238023        NaT     28.688889  ...   \n",
      "4 2176-02-24 19:16:58  54.8469      260225 2176-04-27     54.727083  ...   \n",
      "\n",
      "   inr_max  pt_min  pt_max  sodium_min  sodium_max  bun_min  bun_max  wbc_min  \\\n",
      "0      1.2    13.2    13.4       136.0       143.0     15.0     17.0     25.2   \n",
      "1      1.2    13.7    13.7       138.0       138.0      9.0      9.0      1.6   \n",
      "2      NaN     NaN     NaN       124.0       124.0     32.0     44.0     22.7   \n",
      "3      1.1    12.2    12.6       137.0       144.0     18.0     20.0     12.8   \n",
      "4      1.2    13.3    13.3       144.0       148.0     28.0     38.0     18.9   \n",
      "\n",
      "  wbc_max rrt  \n",
      "0    30.6   0  \n",
      "1     1.6   0  \n",
      "2    22.7   0  \n",
      "3    18.3   0  \n",
      "4    21.1   0  \n",
      "\n",
      "[5 rows x 114 columns]\n"
     ]
    }
   ],
   "source": [
    "print(df.head())"
   ]
  },
  {
   "cell_type": "code",
   "execution_count": 5,
   "metadata": {},
   "outputs": [
    {
     "name": "stdout",
     "output_type": "stream",
     "text": [
      "<class 'pandas.core.frame.DataFrame'>\n",
      "RangeIndex: 49855 entries, 0 to 49854\n",
      "Columns: 114 entries, hadm_id to rrt\n",
      "dtypes: bool(2), datetime64[ns](8), float64(75), int64(12), object(17)\n",
      "memory usage: 42.7+ MB\n",
      "None\n"
     ]
    }
   ],
   "source": [
    "print(df.info())"
   ]
  }
 ],
 "metadata": {
  "kernelspec": {
   "display_name": ".venv",
   "language": "python",
   "name": "python3"
  },
  "language_info": {
   "codemirror_mode": {
    "name": "ipython",
    "version": 3
   },
   "file_extension": ".py",
   "mimetype": "text/x-python",
   "name": "python",
   "nbconvert_exporter": "python",
   "pygments_lexer": "ipython3",
   "version": "3.8.10"
  },
  "orig_nbformat": 4
 },
 "nbformat": 4,
 "nbformat_minor": 2
}
