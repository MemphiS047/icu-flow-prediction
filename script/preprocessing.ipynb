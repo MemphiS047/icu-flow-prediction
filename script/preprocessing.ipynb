{
 "cells": [
  {
   "cell_type": "code",
   "execution_count": 78,
   "metadata": {},
   "outputs": [],
   "source": [
    "import pandas as pd\n",
    "from sklearn.impute import SimpleImputer\n",
    "from sklearn.preprocessing import StandardScaler, OneHotEncoder\n",
    "from sklearn.decomposition import PCA\n",
    "from sklearn.feature_selection import SelectKBest, f_regression\n",
    "from sklearn.model_selection import train_test_split\n",
    "from imblearn.over_sampling import RandomOverSampler\n",
    "from imblearn.under_sampling import RandomUnderSampler\n",
    "from sklearn.utils import shuffle\n",
    "import dataextraction as de\n",
    "import utils"
   ]
  },
  {
   "cell_type": "code",
   "execution_count": 79,
   "metadata": {},
   "outputs": [
    {
     "name": "stdout",
     "output_type": "stream",
     "text": [
      "Connected to the PostgreSQL database\n",
      "PostgreSQL version: PostgreSQL 14.0, compiled by Visual C++ build 1914, 64-bit\n"
     ]
    }
   ],
   "source": [
    "conn = de.connect_to_database()\n",
    "cur = conn.cursor()\n",
    "df = de.get_base_dataset(conn)"
   ]
  },
  {
   "cell_type": "markdown",
   "metadata": {},
   "source": [
    "# Preprocessing"
   ]
  },
  {
   "cell_type": "code",
   "execution_count": 80,
   "metadata": {},
   "outputs": [
    {
     "name": "stdout",
     "output_type": "stream",
     "text": [
      "dod: 28030\n",
      "deathtime: 43994\n",
      "edregtime: 19526\n",
      "edouttime: 19526\n",
      "language: 16770\n",
      "height: 30281\n",
      "height_chart: 30281\n",
      "height_echo: 49855\n",
      "weight_admit: 12277\n",
      "weight_daily: 25712\n",
      "weight_echoinhosp: 49855\n",
      "weight_echoprehosp: 49855\n",
      "albumin_min: 31803\n",
      "albumin_max: 31803\n",
      "bands_min: 44052\n",
      "bands_max: 44052\n",
      "bilirubin_min: 27604\n",
      "bilirubin_max: 27604\n",
      "lactate_min: 20419\n",
      "lactate_max: 20419\n"
     ]
    }
   ],
   "source": [
    "# Get the columns with most null values\n",
    "null_values = df.isnull()\n",
    "null_counts = null_values.sum()\n",
    "for key, value in null_counts.to_dict().items():\n",
    "    if value > 10000:\n",
    "        print(f\"{key}: {value}\")"
   ]
  },
  {
   "cell_type": "code",
   "execution_count": 81,
   "metadata": {},
   "outputs": [
    {
     "data": {
      "text/plain": [
       "11976"
      ]
     },
     "execution_count": 81,
     "metadata": {},
     "output_type": "execute_result"
    }
   ],
   "source": [
    "# Check duplicate subject_id's\n",
    "df['subject_id'].duplicated().sum()"
   ]
  },
  {
   "cell_type": "code",
   "execution_count": 82,
   "metadata": {},
   "outputs": [],
   "source": [
    "# Get only first ICU admissions\n",
    "df = df[df['first_icu_stay'] == True]"
   ]
  },
  {
   "cell_type": "code",
   "execution_count": 83,
   "metadata": {},
   "outputs": [
    {
     "data": {
      "text/plain": [
       "9321"
      ]
     },
     "execution_count": 83,
     "metadata": {},
     "output_type": "execute_result"
    }
   ],
   "source": [
    "# Check duplicate subject_id's again\n",
    "df['subject_id'].duplicated().sum()"
   ]
  },
  {
   "cell_type": "code",
   "execution_count": 84,
   "metadata": {},
   "outputs": [],
   "source": [
    "# Aggreagte means and create _mean column for columns that have min, \n",
    "# max measurements but missing mean measurements(generally lab and vital measurements)\n",
    "missing_mean_columns = utils.detect_missing_mean_columns(df)\n",
    "df = utils.add_missing_mean_columns(df, missing_mean_columns)"
   ]
  },
  {
   "cell_type": "code",
   "execution_count": 85,
   "metadata": {},
   "outputs": [
    {
     "data": {
      "text/plain": [
       "{'heartrate_mean': 'mean',\n",
       " 'sysbp_mean': 'mean',\n",
       " 'diasbp_mean': 'mean',\n",
       " 'meanbp_mean': 'mean',\n",
       " 'resprate_mean': 'mean',\n",
       " 'tempc_mean': 'mean',\n",
       " 'spo2_mean': 'mean',\n",
       " 'glucose_mean': 'mean',\n",
       " 'aniongap_mean': 'mean',\n",
       " 'albumin_mean': 'mean',\n",
       " 'bands_mean': 'mean',\n",
       " 'bicarbonate_mean': 'mean',\n",
       " 'bilirubin_mean': 'mean',\n",
       " 'creatinine_mean': 'mean',\n",
       " 'chloride_mean': 'mean',\n",
       " 'hematocrit_mean': 'mean',\n",
       " 'hemoglobin_mean': 'mean',\n",
       " 'lactate_mean': 'mean',\n",
       " 'platelet_mean': 'mean',\n",
       " 'potassium_mean': 'mean',\n",
       " 'ptt_mean': 'mean',\n",
       " 'inr_mean': 'mean',\n",
       " 'pt_mean': 'mean',\n",
       " 'sodium_mean': 'mean',\n",
       " 'bun_mean': 'mean',\n",
       " 'wbc_mean': 'mean'}"
      ]
     },
     "execution_count": 85,
     "metadata": {},
     "output_type": "execute_result"
    }
   ],
   "source": [
    "# Aggreagte rest of the multiple mean measurments by single patients by \n",
    "# taking mean of all the mean records\n",
    "mean_columns = [col for col in df.columns if '_mean' in col]\n",
    "aggregation_functions = {}\n",
    "for col in mean_columns:\n",
    "    aggregation_functions[col] = 'mean'\n",
    "aggregation_functions"
   ]
  },
  {
   "cell_type": "code",
   "execution_count": 86,
   "metadata": {},
   "outputs": [],
   "source": [
    "# Grouping by subject ID for unique subject records (due to multiple mean measurmenets\n",
    "# there were multiple records for single subject ID for mean values while rest of the\n",
    "# features are stayed same)\n",
    "df = df.groupby('subject_id').agg(aggregation_functions).reset_index()"
   ]
  },
  {
   "cell_type": "code",
   "execution_count": 87,
   "metadata": {},
   "outputs": [
    {
     "data": {
      "text/plain": [
       "0"
      ]
     },
     "execution_count": 87,
     "metadata": {},
     "output_type": "execute_result"
    }
   ],
   "source": [
    "# Summing duplicates to see if we left out with unique subject IDs\n",
    "df['subject_id'].duplicated().sum()"
   ]
  }
 ],
 "metadata": {
  "kernelspec": {
   "display_name": ".venv",
   "language": "python",
   "name": "python3"
  },
  "language_info": {
   "codemirror_mode": {
    "name": "ipython",
    "version": 3
   },
   "file_extension": ".py",
   "mimetype": "text/x-python",
   "name": "python",
   "nbconvert_exporter": "python",
   "pygments_lexer": "ipython3",
   "version": "3.8.10"
  },
  "orig_nbformat": 4
 },
 "nbformat": 4,
 "nbformat_minor": 2
}
